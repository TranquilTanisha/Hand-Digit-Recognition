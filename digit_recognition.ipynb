{
 "cells": [
  {
   "cell_type": "code",
   "execution_count": 1,
   "metadata": {},
   "outputs": [
    {
     "name": "stdout",
     "output_type": "stream",
     "text": [
      "2.13.0\n"
     ]
    }
   ],
   "source": [
    "import tensorflow as tf\n",
    "print(tf.__version__)"
   ]
  },
  {
   "cell_type": "code",
   "execution_count": 2,
   "metadata": {},
   "outputs": [],
   "source": [
    "from tensorflow.keras.datasets import mnist\n",
    "(x_train, y_train), (x_test, y_test) = mnist.load_data()"
   ]
  },
  {
   "cell_type": "code",
   "execution_count": 3,
   "metadata": {},
   "outputs": [
    {
     "data": {
      "text/plain": [
       "(60000, 28, 28)"
      ]
     },
     "execution_count": 3,
     "metadata": {},
     "output_type": "execute_result"
    }
   ],
   "source": [
    "x_train.shape"
   ]
  },
  {
   "cell_type": "code",
   "execution_count": 4,
   "metadata": {},
   "outputs": [
    {
     "data": {
      "image/png": "[encoded data removed]",
      "text/plain": [
       "<Figure size 640x480 with 1 Axes>"
      ]
     },
     "metadata": {},
     "output_type": "display_data"
    }
   ],
   "source": [
    "from matplotlib import pyplot as plt\n",
    "plt.imshow(x_train[10], cmap='binary')\n",
    "plt.show()"
   ]
  },
  {
   "cell_type": "code",
   "execution_count": 5,
   "metadata": {},
   "outputs": [
    {
     "data": {
      "text/plain": [
       "array([[  0,   0,   0,   0,   0,   0,   0,   0,   0,   0,   0,   0,   0,\n",
       "          0,   0,   0,   0,   0,   0,   0,   0,   0,   0,   0,   0,   0,\n",
       "          0,   0],\n",
       "       [  0,   0,   0,   0,   0,   0,   0,   0,   0,   0,   0,   0,   0,\n",
       "          0,   0,   0,   0,   0,   0,   0,   0,   0,   0,   0,   0,   0,\n",
       "          0,   0],\n",
       "       [  0,   0,   0,   0,   0,   0,   0,   0,   0,   0,   0,   0,   0,\n",
       "          0,   0,   0,   0,   0,   0,   0,   0,   0,   0,   0,   0,   0,\n",
       "          0,   0],\n",
       "       [  0,   0,   0,   0,   0,   0,   0,   0,   0,   0,   0,   0,   0,\n",
       "          0,   0,   0,   0,   0,   0,   0,   0,   0,   0,   0,   0,   0,\n",
       "          0,   0],\n",
       "       [  0,   0,   0,   0,   0,   0,   0,   0,   0,   0,   0,  42, 118,\n",
       "        219, 166, 118, 118,   6,   0,   0,   0,   0,   0,   0,   0,   0,\n",
       "          0,   0],\n",
       "       [  0,   0,   0,   0,   0,   0,   0,   0,   0,   0, 103, 242, 254,\n",
       "        254, 254, 254, 254,  66,   0,   0,   0,   0,   0,   0,   0,   0,\n",
       "          0,   0],\n",
       "       [  0,   0,   0,   0,   0,   0,   0,   0,   0,   0,  18, 232, 254,\n",
       "        254, 254, 254, 254, 238,  70,   0,   0,   0,   0,   0,   0,   0,\n",
       "          0,   0],\n",
       "       [  0,   0,   0,   0,   0,   0,   0,   0,   0,   0,   0, 104, 244,\n",
       "        254, 224, 254, 254, 254, 141,   0,   0,   0,   0,   0,   0,   0,\n",
       "          0,   0],\n",
       "       [  0,   0,   0,   0,   0,   0,   0,   0,   0,   0,   0,   0, 207,\n",
       "        254, 210, 254, 254, 254,  34,   0,   0,   0,   0,   0,   0,   0,\n",
       "          0,   0],\n",
       "       [  0,   0,   0,   0,   0,   0,   0,   0,   0,   0,   0,   0,  84,\n",
       "        206, 254, 254, 254, 254,  41,   0,   0,   0,   0,   0,   0,   0,\n",
       "          0,   0],\n",
       "       [  0,   0,   0,   0,   0,   0,   0,   0,   0,   0,   0,   0,   0,\n",
       "         24, 209, 254, 254, 254, 171,   0,   0,   0,   0,   0,   0,   0,\n",
       "          0,   0],\n",
       "       [  0,   0,   0,   0,   0,   0,   0,   0,   0,   0,   0,   0,  91,\n",
       "        137, 253, 254, 254, 254, 112,   0,   0,   0,   0,   0,   0,   0,\n",
       "          0,   0],\n",
       "       [  0,   0,   0,   0,   0,   0,   0,   0,   0,   0,  40, 214, 250,\n",
       "        254, 254, 254, 254, 254,  34,   0,   0,   0,   0,   0,   0,   0,\n",
       "          0,   0],\n",
       "       [  0,   0,   0,   0,   0,   0,   0,   0,   0,   0,  81, 247, 254,\n",
       "        254, 254, 254, 254, 254, 146,   0,   0,   0,   0,   0,   0,   0,\n",
       "          0,   0],\n",
       "       [  0,   0,   0,   0,   0,   0,   0,   0,   0,   0,   0, 110, 246,\n",
       "        254, 254, 254, 254, 254, 171,   0,   0,   0,   0,   0,   0,   0,\n",
       "          0,   0],\n",
       "       [  0,   0,   0,   0,   0,   0,   0,   0,   0,   0,   0,   0,  73,\n",
       "         89,  89,  93, 240, 254, 171,   0,   0,   0,   0,   0,   0,   0,\n",
       "          0,   0],\n",
       "       [  0,   0,   0,   0,   0,   0,   0,   0,   0,   0,   0,   0,   0,\n",
       "          0,   0,   1, 128, 254, 219,  31,   0,   0,   0,   0,   0,   0,\n",
       "          0,   0],\n",
       "       [  0,   0,   0,   0,   0,   0,   0,   0,   0,   0,   0,   0,   0,\n",
       "          0,   0,   7, 254, 254, 214,  28,   0,   0,   0,   0,   0,   0,\n",
       "          0,   0],\n",
       "       [  0,   0,   0,   0,   0,   0,   0,   0,   0,   0,   0,   0,   0,\n",
       "          0,   0, 138, 254, 254, 116,   0,   0,   0,   0,   0,   0,   0,\n",
       "          0,   0],\n",
       "       [  0,   0,   0,   0,   0,   0,  19, 177,  90,   0,   0,   0,   0,\n",
       "          0,  25, 240, 254, 254,  34,   0,   0,   0,   0,   0,   0,   0,\n",
       "          0,   0],\n",
       "       [  0,   0,   0,   0,   0,   0, 164, 254, 215,  63,  36,   0,  51,\n",
       "         89, 206, 254, 254, 139,   8,   0,   0,   0,   0,   0,   0,   0,\n",
       "          0,   0],\n",
       "       [  0,   0,   0,   0,   0,   0,  57, 197, 254, 254, 222, 180, 241,\n",
       "        254, 254, 253, 213,  11,   0,   0,   0,   0,   0,   0,   0,   0,\n",
       "          0,   0],\n",
       "       [  0,   0,   0,   0,   0,   0,   0, 140, 105, 254, 254, 254, 254,\n",
       "        254, 254, 236,   0,   0,   0,   0,   0,   0,   0,   0,   0,   0,\n",
       "          0,   0],\n",
       "       [  0,   0,   0,   0,   0,   0,   0,   0,   7, 117, 117, 165, 254,\n",
       "        254, 239,  50,   0,   0,   0,   0,   0,   0,   0,   0,   0,   0,\n",
       "          0,   0],\n",
       "       [  0,   0,   0,   0,   0,   0,   0,   0,   0,   0,   0,   0,   0,\n",
       "          0,   0,   0,   0,   0,   0,   0,   0,   0,   0,   0,   0,   0,\n",
       "          0,   0],\n",
       "       [  0,   0,   0,   0,   0,   0,   0,   0,   0,   0,   0,   0,   0,\n",
       "          0,   0,   0,   0,   0,   0,   0,   0,   0,   0,   0,   0,   0,\n",
       "          0,   0],\n",
       "       [  0,   0,   0,   0,   0,   0,   0,   0,   0,   0,   0,   0,   0,\n",
       "          0,   0,   0,   0,   0,   0,   0,   0,   0,   0,   0,   0,   0,\n",
       "          0,   0],\n",
       "       [  0,   0,   0,   0,   0,   0,   0,   0,   0,   0,   0,   0,   0,\n",
       "          0,   0,   0,   0,   0,   0,   0,   0,   0,   0,   0,   0,   0,\n",
       "          0,   0]], dtype=uint8)"
      ]
     },
     "execution_count": 5,
     "metadata": {},
     "output_type": "execute_result"
    }
   ],
   "source": [
    "x_train[10]"
   ]
  },
  {
   "cell_type": "code",
   "execution_count": 6,
   "metadata": {},
   "outputs": [],
   "source": [
    "#ONE HOT ENCODING\n",
    "from tensorflow.keras.utils import to_categorical\n",
    "y_train_encoded = to_categorical(y_train)\n",
    "y_test_encoded = to_categorical(y_test)"
   ]
  },
  {
   "cell_type": "code",
   "execution_count": 7,
   "metadata": {},
   "outputs": [
    {
     "data": {
      "text/plain": [
       "array([  0,   0,   0,   0,   0,   0,   0,   0,   0,   0,   0,   0,   0,\n",
       "         0,   0,   0,   0,   0,   0,   0,   0,   0,   0,   0,   0,   0,\n",
       "         0,   0,   0,   0,   0,   0,   0,   0,   0,   0,   0,   0,   0,\n",
       "         0,   0,   0,   0,   0,   0,   0,   0,   0,   0,   0,   0,   0,\n",
       "         0,   0,   0,   0,   0,   0,   0,   0,   0,   0,   0,   0,   0,\n",
       "         0,   0,   0,   0,   0,   0,   0,   0,   0,   0,   0,   0,   0,\n",
       "         0,   0,   0,   0,   0,   0,   0,   0,   0,   0,   0,   0,   0,\n",
       "         0,   0,   0,   0,   0,   0,   0,   0,   0,   0,   0,   0,   0,\n",
       "         0,   0,   0,   0,   0,   0,   0,   0,   0,   0,   0,   0,   0,\n",
       "         0,   0,   0,   0,   0,   0,  42, 118, 219, 166, 118, 118,   6,\n",
       "         0,   0,   0,   0,   0,   0,   0,   0,   0,   0,   0,   0,   0,\n",
       "         0,   0,   0,   0,   0,   0,   0, 103, 242, 254, 254, 254, 254,\n",
       "       254,  66,   0,   0,   0,   0,   0,   0,   0,   0,   0,   0,   0,\n",
       "         0,   0,   0,   0,   0,   0,   0,   0,   0,  18, 232, 254, 254,\n",
       "       254, 254, 254, 238,  70,   0,   0,   0,   0,   0,   0,   0,   0,\n",
       "         0,   0,   0,   0,   0,   0,   0,   0,   0,   0,   0,   0, 104,\n",
       "       244, 254, 224, 254, 254, 254, 141,   0,   0,   0,   0,   0,   0,\n",
       "         0,   0,   0,   0,   0,   0,   0,   0,   0,   0,   0,   0,   0,\n",
       "         0,   0, 207, 254, 210, 254, 254, 254,  34,   0,   0,   0,   0,\n",
       "         0,   0,   0,   0,   0,   0,   0,   0,   0,   0,   0,   0,   0,\n",
       "         0,   0,   0,   0,  84, 206, 254, 254, 254, 254,  41,   0,   0,\n",
       "         0,   0,   0,   0,   0,   0,   0,   0,   0,   0,   0,   0,   0,\n",
       "         0,   0,   0,   0,   0,   0,   0,  24, 209, 254, 254, 254, 171,\n",
       "         0,   0,   0,   0,   0,   0,   0,   0,   0,   0,   0,   0,   0,\n",
       "         0,   0,   0,   0,   0,   0,   0,   0,  91, 137, 253, 254, 254,\n",
       "       254, 112,   0,   0,   0,   0,   0,   0,   0,   0,   0,   0,   0,\n",
       "         0,   0,   0,   0,   0,   0,   0,   0,  40, 214, 250, 254, 254,\n",
       "       254, 254, 254,  34,   0,   0,   0,   0,   0,   0,   0,   0,   0,\n",
       "         0,   0,   0,   0,   0,   0,   0,   0,   0,   0,  81, 247, 254,\n",
       "       254, 254, 254, 254, 254, 146,   0,   0,   0,   0,   0,   0,   0,\n",
       "         0,   0,   0,   0,   0,   0,   0,   0,   0,   0,   0,   0,   0,\n",
       "       110, 246, 254, 254, 254, 254, 254, 171,   0,   0,   0,   0,   0,\n",
       "         0,   0,   0,   0,   0,   0,   0,   0,   0,   0,   0,   0,   0,\n",
       "         0,   0,   0,  73,  89,  89,  93, 240, 254, 171,   0,   0,   0,\n",
       "         0,   0,   0,   0,   0,   0,   0,   0,   0,   0,   0,   0,   0,\n",
       "         0,   0,   0,   0,   0,   0,   0,   0,   1, 128, 254, 219,  31,\n",
       "         0,   0,   0,   0,   0,   0,   0,   0,   0,   0,   0,   0,   0,\n",
       "         0,   0,   0,   0,   0,   0,   0,   0,   0,   0,   7, 254, 254,\n",
       "       214,  28,   0,   0,   0,   0,   0,   0,   0,   0,   0,   0,   0,\n",
       "         0,   0,   0,   0,   0,   0,   0,   0,   0,   0,   0,   0, 138,\n",
       "       254, 254, 116,   0,   0,   0,   0,   0,   0,   0,   0,   0,   0,\n",
       "         0,   0,   0,   0,   0,  19, 177,  90,   0,   0,   0,   0,   0,\n",
       "        25, 240, 254, 254,  34,   0,   0,   0,   0,   0,   0,   0,   0,\n",
       "         0,   0,   0,   0,   0,   0,   0, 164, 254, 215,  63,  36,   0,\n",
       "        51,  89, 206, 254, 254, 139,   8,   0,   0,   0,   0,   0,   0,\n",
       "         0,   0,   0,   0,   0,   0,   0,   0,   0,  57, 197, 254, 254,\n",
       "       222, 180, 241, 254, 254, 253, 213,  11,   0,   0,   0,   0,   0,\n",
       "         0,   0,   0,   0,   0,   0,   0,   0,   0,   0,   0,   0, 140,\n",
       "       105, 254, 254, 254, 254, 254, 254, 236,   0,   0,   0,   0,   0,\n",
       "         0,   0,   0,   0,   0,   0,   0,   0,   0,   0,   0,   0,   0,\n",
       "         0,   0,   7, 117, 117, 165, 254, 254, 239,  50,   0,   0,   0,\n",
       "         0,   0,   0,   0,   0,   0,   0,   0,   0,   0,   0,   0,   0,\n",
       "         0,   0,   0,   0,   0,   0,   0,   0,   0,   0,   0,   0,   0,\n",
       "         0,   0,   0,   0,   0,   0,   0,   0,   0,   0,   0,   0,   0,\n",
       "         0,   0,   0,   0,   0,   0,   0,   0,   0,   0,   0,   0,   0,\n",
       "         0,   0,   0,   0,   0,   0,   0,   0,   0,   0,   0,   0,   0,\n",
       "         0,   0,   0,   0,   0,   0,   0,   0,   0,   0,   0,   0,   0,\n",
       "         0,   0,   0,   0,   0,   0,   0,   0,   0,   0,   0,   0,   0,\n",
       "         0,   0,   0,   0,   0,   0,   0,   0,   0,   0,   0,   0,   0,\n",
       "         0,   0,   0,   0,   0,   0,   0,   0,   0,   0,   0,   0,   0,\n",
       "         0,   0,   0,   0], dtype=uint8)"
      ]
     },
     "execution_count": 7,
     "metadata": {},
     "output_type": "execute_result"
    }
   ],
   "source": [
    "#PREPROCESSING\n",
    "#Unrolling n-dimensional array into a vector\n",
    "import numpy as np\n",
    "x_train_reshaped = np.reshape(x_train, (60000, 784))\n",
    "x_test_reshaped = np.reshape(x_test, (10000, 784))\n",
    "x_train_reshaped[10]"
   ]
  },
  {
   "cell_type": "code",
   "execution_count": 8,
   "metadata": {},
   "outputs": [],
   "source": [
    "x_mean=np.mean(x_train_reshaped)\n",
    "x_std=np.std(x_train_reshaped)\n",
    "epsilon=1e-10   \n",
    "x_train_norm=(x_train_reshaped-x_mean)/(x_std+epsilon)\n",
    "x_test_norm=(x_test_reshaped-x_mean)/(x_std+epsilon)"
   ]
  },
  {
   "cell_type": "code",
   "execution_count": 9,
   "metadata": {},
   "outputs": [
    {
     "data": {
      "text/plain": [
       "array([-0.42407389, -0.42407389, -0.42407389, -0.42407389, -0.42407389,\n",
       "       -0.42407389, -0.42407389, -0.42407389, -0.42407389, -0.42407389,\n",
       "       -0.42407389, -0.42407389, -0.42407389, -0.42407389, -0.42407389,\n",
       "       -0.42407389, -0.42407389, -0.42407389, -0.42407389, -0.42407389,\n",
       "       -0.42407389, -0.42407389, -0.42407389, -0.42407389, -0.42407389,\n",
       "       -0.42407389, -0.42407389, -0.42407389, -0.42407389, -0.42407389,\n",
       "       -0.42407389, -0.42407389, -0.42407389, -0.42407389, -0.42407389,\n",
       "       -0.42407389, -0.42407389, -0.42407389, -0.42407389, -0.42407389,\n",
       "       -0.42407389, -0.42407389, -0.42407389, -0.42407389, -0.42407389,\n",
       "       -0.42407389, -0.42407389, -0.42407389, -0.42407389, -0.42407389,\n",
       "       -0.42407389, -0.42407389, -0.42407389, -0.42407389, -0.42407389,\n",
       "       -0.42407389, -0.42407389, -0.42407389, -0.42407389, -0.42407389,\n",
       "       -0.42407389, -0.42407389, -0.42407389, -0.42407389, -0.42407389,\n",
       "       -0.42407389, -0.42407389, -0.42407389, -0.42407389, -0.42407389,\n",
       "       -0.42407389, -0.42407389, -0.42407389, -0.42407389, -0.42407389,\n",
       "       -0.42407389, -0.42407389, -0.42407389, -0.42407389, -0.42407389,\n",
       "       -0.42407389, -0.42407389, -0.42407389, -0.42407389, -0.42407389,\n",
       "       -0.42407389, -0.42407389, -0.42407389, -0.42407389, -0.42407389,\n",
       "       -0.42407389, -0.42407389, -0.42407389, -0.42407389, -0.42407389,\n",
       "       -0.42407389, -0.42407389, -0.42407389, -0.42407389, -0.42407389,\n",
       "       -0.42407389, -0.42407389, -0.42407389, -0.42407389, -0.42407389,\n",
       "       -0.42407389, -0.42407389, -0.42407389, -0.42407389, -0.42407389,\n",
       "       -0.42407389, -0.42407389, -0.42407389, -0.42407389, -0.42407389,\n",
       "       -0.42407389, -0.42407389, -0.42407389, -0.42407389, -0.42407389,\n",
       "       -0.42407389, -0.42407389, -0.42407389,  0.35232866, -0.38589016,\n",
       "        0.11049836,  1.07781957,  2.03241288,  1.07781957,  1.07781957,\n",
       "        0.35232866, -0.42407389, -0.42407389, -0.42407389, -0.42407389,\n",
       "       -0.42407389, -0.42407389, -0.42407389, -0.42407389, -0.42407389,\n",
       "       -0.42407389, -0.42407389, -0.42407389, -0.42407389, -0.42407389,\n",
       "       -0.42407389, -0.42407389, -0.42407389, -0.42407389, -0.24588314,\n",
       "        1.85422213,  2.69426424,  2.57971304,  2.65608051,  2.80881543,\n",
       "        2.80881543,  2.80881543,  2.80881543,  2.69426424,  2.56698513,\n",
       "        0.64507061, -0.42407389, -0.42407389, -0.42407389, -0.42407389,\n",
       "       -0.42407389, -0.42407389, -0.42407389, -0.42407389, -0.42407389,\n",
       "       -0.42407389, -0.42407389, -0.42407389, -0.42407389, -0.42407389,\n",
       "       -0.42407389, -0.42407389,  1.49784063,  2.80881543,  2.80881543,\n",
       "        2.80881543,  2.28697109,  2.01968497,  1.84149422,  1.84149422,\n",
       "        1.86695004,  2.80881543,  2.80881543,  2.6433526 ,  0.16141   ,\n",
       "       -0.42407389, -0.42407389, -0.42407389, -0.42407389, -0.42407389,\n",
       "       -0.42407389, -0.42407389, -0.42407389, -0.42407389, -0.42407389,\n",
       "       -0.42407389, -0.42407389, -0.42407389, -0.42407389,  0.12322627,\n",
       "        2.56698513,  2.80881543,  2.45243393,  0.39051239, -0.06769239,\n",
       "       -0.27133897, -0.42407389, -0.42407389, -0.39861807,  1.20509868,\n",
       "        2.78335961,  2.82154335,  1.77785466, -0.20769941, -0.42407389,\n",
       "       -0.42407389, -0.42407389, -0.42407389, -0.42407389, -0.42407389,\n",
       "       -0.42407389, -0.42407389, -0.42407389, -0.42407389, -0.42407389,\n",
       "       -0.42407389, -0.42407389,  0.28868911,  2.80881543,  2.79608752,\n",
       "        0.93781256, -0.42407389, -0.42407389, -0.42407389, -0.42407389,\n",
       "       -0.42407389, -0.42407389, -0.42407389,  1.28146615,  2.75790379,\n",
       "        2.80881543,  0.53051941, -0.42407389, -0.42407389, -0.42407389,\n",
       "       -0.42407389, -0.42407389, -0.42407389, -0.42407389, -0.42407389,\n",
       "       -0.42407389, -0.42407389, -0.42407389, -0.42407389, -0.42407389,\n",
       "        0.37778448,  2.80881543,  1.586936  , -0.42407389, -0.42407389,\n",
       "       -0.42407389, -0.42407389, -0.42407389, -0.42407389, -0.42407389,\n",
       "       -0.42407389, -0.42407389,  2.38879438,  2.80881543,  1.57420809,\n",
       "       -0.42407389, -0.42407389, -0.42407389, -0.42407389, -0.42407389,\n",
       "       -0.42407389, -0.42407389, -0.42407389, -0.42407389, -0.42407389,\n",
       "       -0.42407389, -0.42407389, -0.42407389,  2.04514079,  2.80881543,\n",
       "        0.88690091, -0.42407389, -0.42407389, -0.42407389, -0.42407389,\n",
       "       -0.42407389, -0.42407389, -0.42407389, -0.42407389, -0.42407389,\n",
       "        1.48511272,  2.80881543,  2.28697109, -0.42407389, -0.42407389,\n",
       "       -0.42407389, -0.42407389, -0.42407389, -0.42407389, -0.42407389,\n",
       "       -0.42407389, -0.42407389, -0.42407389, -0.42407389, -0.42407389,\n",
       "        0.00867507,  2.37606647,  2.61789677,  0.31414493, -0.42407389,\n",
       "       -0.42407389, -0.42407389, -0.42407389, -0.42407389, -0.42407389,\n",
       "       -0.42407389, -0.42407389, -0.42407389,  0.64507061,  2.80881543,\n",
       "        2.28697109, -0.42407389, -0.42407389, -0.42407389, -0.42407389,\n",
       "       -0.42407389, -0.42407389, -0.42407389, -0.42407389, -0.42407389,\n",
       "       -0.42407389, -0.42407389, -0.42407389,  1.17964286,  2.80881543,\n",
       "        1.75239884, -0.42407389, -0.42407389, -0.42407389, -0.42407389,\n",
       "       -0.42407389, -0.42407389, -0.42407389, -0.42407389, -0.42407389,\n",
       "       -0.42407389,  0.64507061,  2.80881543,  2.28697109, -0.42407389,\n",
       "       -0.42407389, -0.42407389, -0.42407389, -0.42407389, -0.42407389,\n",
       "       -0.42407389, -0.42407389, -0.42407389, -0.42407389, -0.42407389,\n",
       "       -0.42407389,  2.29969901,  2.61789677,  0.33960075, -0.42407389,\n",
       "       -0.42407389, -0.42407389, -0.42407389, -0.42407389, -0.42407389,\n",
       "       -0.42407389, -0.42407389, -0.42407389, -0.42407389,  0.64507061,\n",
       "        2.80881543,  2.28697109, -0.42407389, -0.42407389, -0.42407389,\n",
       "       -0.42407389, -0.42407389, -0.42407389, -0.42407389, -0.42407389,\n",
       "       -0.42407389, -0.42407389, -0.42407389, -0.42407389,  2.29969901,\n",
       "        2.10878034, -0.42407389, -0.42407389, -0.42407389, -0.42407389,\n",
       "       -0.42407389, -0.42407389, -0.42407389, -0.42407389, -0.42407389,\n",
       "       -0.42407389, -0.42407389,  0.64507061,  2.80881543,  2.28697109,\n",
       "       -0.42407389, -0.42407389, -0.42407389, -0.42407389, -0.42407389,\n",
       "       -0.42407389, -0.42407389, -0.42407389, -0.42407389, -0.42407389,\n",
       "       -0.42407389, -0.28406688,  2.36333856,  2.10878034, -0.42407389,\n",
       "       -0.42407389, -0.42407389, -0.42407389, -0.42407389, -0.42407389,\n",
       "       -0.42407389, -0.42407389, -0.42407389, -0.42407389, -0.42407389,\n",
       "        0.64507061,  2.80881543,  2.28697109, -0.42407389, -0.42407389,\n",
       "       -0.42407389, -0.42407389, -0.42407389, -0.42407389, -0.42407389,\n",
       "       -0.42407389, -0.42407389, -0.42407389, -0.42407389,  0.82326136,\n",
       "        2.80881543,  2.10878034, -0.42407389, -0.42407389, -0.42407389,\n",
       "       -0.42407389, -0.42407389, -0.42407389, -0.42407389, -0.42407389,\n",
       "       -0.42407389, -0.42407389, -0.42407389,  1.63784765,  2.80881543,\n",
       "        2.23605945, -0.42407389, -0.42407389, -0.42407389, -0.42407389,\n",
       "       -0.42407389, -0.42407389, -0.42407389, -0.42407389, -0.42407389,\n",
       "       -0.42407389, -0.42407389,  0.82326136,  2.80881543,  2.10878034,\n",
       "       -0.42407389, -0.42407389, -0.42407389, -0.42407389, -0.42407389,\n",
       "       -0.42407389, -0.42407389, -0.42407389, -0.42407389, -0.42407389,\n",
       "        0.22504955,  2.60516886,  2.80881543,  0.53051941, -0.42407389,\n",
       "       -0.42407389, -0.42407389, -0.42407389, -0.42407389, -0.42407389,\n",
       "       -0.42407389, -0.42407389, -0.42407389, -0.42407389, -0.42407389,\n",
       "        0.82326136,  2.80881543,  2.10878034, -0.42407389, -0.42407389,\n",
       "       -0.42407389, -0.42407389, -0.42407389, -0.42407389, -0.42407389,\n",
       "       -0.42407389, -0.42407389,  0.22504955,  1.67603138,  2.80881543,\n",
       "        2.0578687 , -0.37316225, -0.42407389, -0.42407389, -0.42407389,\n",
       "       -0.42407389, -0.42407389, -0.42407389, -0.42407389, -0.42407389,\n",
       "       -0.42407389, -0.42407389, -0.42407389,  0.41596821,  2.6433526 ,\n",
       "        2.10878034, -0.42407389, -0.42407389, -0.42407389, -0.42407389,\n",
       "       -0.42407389, -0.42407389, -0.42407389, -0.42407389, -0.38589016,\n",
       "        1.7014872 ,  2.80881543,  2.46516184,  0.2759612 , -0.42407389,\n",
       "       -0.42407389, -0.42407389, -0.42407389, -0.42407389, -0.42407389,\n",
       "       -0.42407389, -0.42407389, -0.42407389, -0.42407389, -0.42407389,\n",
       "       -0.42407389, -0.42407389,  2.29969901,  2.28697109, -0.16951568,\n",
       "       -0.42407389, -0.42407389, -0.42407389, -0.42407389, -0.42407389,\n",
       "        0.16141   ,  1.51056854,  2.14696408,  2.80881543,  2.80881543,\n",
       "        0.37778448, -0.42407389, -0.42407389, -0.42407389, -0.42407389,\n",
       "       -0.42407389, -0.42407389, -0.42407389, -0.42407389, -0.42407389,\n",
       "       -0.42407389, -0.42407389, -0.42407389, -0.42407389, -0.42407389,\n",
       "        2.29969901,  2.80881543,  2.1724199 ,  1.86695004,  1.86695004,\n",
       "        1.86695004,  1.86695004,  1.86695004,  2.56698513,  2.80881543,\n",
       "        2.80881543,  2.55425722,  1.56148018, -0.29679479, -0.42407389,\n",
       "       -0.42407389, -0.42407389, -0.42407389, -0.42407389, -0.42407389,\n",
       "       -0.42407389, -0.42407389, -0.42407389, -0.42407389, -0.42407389,\n",
       "       -0.42407389, -0.42407389, -0.42407389,  0.60688688,  2.18514781,\n",
       "        2.80881543,  2.80881543,  2.80881543,  2.80881543,  2.80881543,\n",
       "        2.80881543,  2.80881543,  2.78335961,  2.55425722,  1.1032754 ,\n",
       "       -0.42407389, -0.42407389, -0.42407389, -0.42407389, -0.42407389,\n",
       "       -0.42407389, -0.42407389, -0.42407389, -0.42407389, -0.42407389,\n",
       "       -0.42407389, -0.42407389, -0.42407389, -0.42407389, -0.42407389,\n",
       "       -0.42407389, -0.42407389, -0.09314822,  2.24878736,  2.80881543,\n",
       "        2.80881543,  2.80881543,  2.80881543,  2.80881543,  1.52329645,\n",
       "        0.89962882, -0.42407389, -0.42407389, -0.42407389, -0.42407389,\n",
       "       -0.42407389, -0.42407389, -0.42407389, -0.42407389, -0.42407389,\n",
       "       -0.42407389, -0.42407389, -0.42407389, -0.42407389, -0.42407389,\n",
       "       -0.42407389, -0.42407389, -0.42407389, -0.42407389, -0.42407389,\n",
       "       -0.42407389, -0.42407389, -0.42407389, -0.42407389, -0.42407389,\n",
       "       -0.42407389, -0.42407389, -0.42407389, -0.42407389, -0.42407389,\n",
       "       -0.42407389, -0.42407389, -0.42407389, -0.42407389, -0.42407389,\n",
       "       -0.42407389, -0.42407389, -0.42407389, -0.42407389, -0.42407389,\n",
       "       -0.42407389, -0.42407389, -0.42407389, -0.42407389, -0.42407389,\n",
       "       -0.42407389, -0.42407389, -0.42407389, -0.42407389, -0.42407389,\n",
       "       -0.42407389, -0.42407389, -0.42407389, -0.42407389, -0.42407389,\n",
       "       -0.42407389, -0.42407389, -0.42407389, -0.42407389, -0.42407389,\n",
       "       -0.42407389, -0.42407389, -0.42407389, -0.42407389, -0.42407389,\n",
       "       -0.42407389, -0.42407389, -0.42407389, -0.42407389, -0.42407389,\n",
       "       -0.42407389, -0.42407389, -0.42407389, -0.42407389, -0.42407389,\n",
       "       -0.42407389, -0.42407389, -0.42407389, -0.42407389, -0.42407389,\n",
       "       -0.42407389, -0.42407389, -0.42407389, -0.42407389, -0.42407389,\n",
       "       -0.42407389, -0.42407389, -0.42407389, -0.42407389, -0.42407389,\n",
       "       -0.42407389, -0.42407389, -0.42407389, -0.42407389, -0.42407389,\n",
       "       -0.42407389, -0.42407389, -0.42407389, -0.42407389, -0.42407389,\n",
       "       -0.42407389, -0.42407389, -0.42407389, -0.42407389, -0.42407389,\n",
       "       -0.42407389, -0.42407389, -0.42407389, -0.42407389, -0.42407389,\n",
       "       -0.42407389, -0.42407389, -0.42407389, -0.42407389, -0.42407389,\n",
       "       -0.42407389, -0.42407389, -0.42407389, -0.42407389, -0.42407389,\n",
       "       -0.42407389, -0.42407389, -0.42407389, -0.42407389])"
      ]
     },
     "execution_count": 9,
     "metadata": {},
     "output_type": "execute_result"
    }
   ],
   "source": [
    "x_test_norm[10]"
   ]
  },
  {
   "cell_type": "code",
   "execution_count": 10,
   "metadata": {},
   "outputs": [
    {
     "name": "stdout",
     "output_type": "stream",
     "text": [
      "Model: \"sequential\"\n",
      "_________________________________________________________________\n",
      " Layer (type)                Output Shape              Param #   \n",
      "=================================================================\n",
      " dense (Dense)               (None, 128)               100480    \n",
      "                                                                 \n",
      " dense_1 (Dense)             (None, 128)               16512     \n",
      "                                                                 \n",
      " dense_2 (Dense)             (None, 10)                1290      \n",
      "                                                                 \n",
      "=================================================================\n",
      "Total params: 118282 (462.04 KB)\n",
      "Trainable params: 118282 (462.04 KB)\n",
      "Non-trainable params: 0 (0.00 Byte)\n",
      "_________________________________________________________________\n"
     ]
    }
   ],
   "source": [
    "from tensorflow.keras.models import Sequential\n",
    "from tensorflow.keras.layers import Dense\n",
    "\n",
    "model = Sequential([\n",
    "    Dense(128, activation='relu', input_shape=(784,)),\n",
    "    Dense(128, activation='relu'),\n",
    "    Dense(10, activation='softmax')])\n",
    "\n",
    "model.compile(optimizer='sgd', loss='categorical_crossentropy', metrics=['accuracy'])\n",
    "model.summary()"
   ]
  },
  {
   "cell_type": "code",
   "execution_count": 11,
   "metadata": {},
   "outputs": [
    {
     "name": "stdout",
     "output_type": "stream",
     "text": [
      "Epoch 1/5\n",
      "1875/1875 [==============================] - 4s 2ms/step - loss: 0.3717 - accuracy: 0.8920\n",
      "Epoch 2/5\n",
      "1875/1875 [==============================] - 4s 2ms/step - loss: 0.1835 - accuracy: 0.9463\n",
      "Epoch 3/5\n",
      "1875/1875 [==============================] - 4s 2ms/step - loss: 0.1401 - accuracy: 0.9582\n",
      "Epoch 4/5\n",
      "1875/1875 [==============================] - 4s 2ms/step - loss: 0.1144 - accuracy: 0.9659\n",
      "Epoch 5/5\n",
      "1875/1875 [==============================] - 3s 2ms/step - loss: 0.0961 - accuracy: 0.9713\n",
      "313/313 [==============================] - 1s 1ms/step - loss: 0.1058 - accuracy: 0.9678\n"
     ]
    }
   ],
   "source": [
    "model.fit(x_train_norm, y_train_encoded, epochs=5)\n",
    "loss, accuracy = model.evaluate(x_test_norm, y_test_encoded)"
   ]
  },
  {
   "cell_type": "code",
   "execution_count": 12,
   "metadata": {},
   "outputs": [
    {
     "name": "stdout",
     "output_type": "stream",
     "text": [
      "313/313 [==============================] - 0s 1ms/step\n",
      "Shape of preds: (10000, 10)\n"
     ]
    }
   ],
   "source": [
    "preds=model.predict(x_test_norm)\n",
    "print(\"Shape of preds:\", preds.shape)"
   ]
  },
  {
   "cell_type": "code",
   "execution_count": 14,
   "metadata": {},
   "outputs": [
    {
     "data": {
      "image/png": "[encoded data removed]",
      "text/plain": [
       "<Figure size 1200x1200 with 25 Axes>"
      ]
     },
     "metadata": {},
     "output_type": "display_data"
    }
   ],
   "source": [
    "plt.figure(figsize=(12,12))\n",
    "# start_index=0\n",
    "\n",
    "for i in range(25):\n",
    "    plt.subplot(5,5,i+1)\n",
    "    plt.grid(True)\n",
    "    plt.xticks([])\n",
    "    plt.yticks([])\n",
    "    \n",
    "    pred=np.argmax(preds[i])\n",
    "    gt=y_test[i]\n",
    "    \n",
    "    plt.xlabel(\"i={}, pred={}, gt={}\".format(i, pred, gt))\n",
    "    plt.imshow(x_test[i])\n",
    "plt.show()"
   ]
  },
  {
   "cell_type": "code",
   "execution_count": null,
   "metadata": {},
   "outputs": [],
   "source": []
  }
 ],
 "metadata": {
  "kernelspec": {
   "display_name": "Python 3",
   "language": "python",
   "name": "python3"
  },
  "language_info": {
   "codemirror_mode": {
    "name": "ipython",
    "version": 3
   },
   "file_extension": ".py",
   "mimetype": "text/x-python",
   "name": "python",
   "nbconvert_exporter": "python",
   "pygments_lexer": "ipython3",
   "version": "3.11.2"
  }
 },
 "nbformat": 4,
 "nbformat_minor": 2
}
